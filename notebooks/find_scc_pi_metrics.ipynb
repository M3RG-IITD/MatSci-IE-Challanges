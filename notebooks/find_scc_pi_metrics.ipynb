{
 "cells": [
  {
   "cell_type": "code",
   "execution_count": 1,
   "id": "4a0de7d6",
   "metadata": {},
   "outputs": [],
   "source": [
    "import os\n",
    "import pickle\n",
    "from collections import defaultdict"
   ]
  },
  {
   "cell_type": "code",
   "execution_count": 2,
   "id": "7359f44d",
   "metadata": {},
   "outputs": [],
   "source": [
    "gold_tuples = pickle.load(open('true_tuples_scc_pi.pkl', 'rb'))\n",
    "pred_tuples = pickle.load(open('pred_tuples_for_scc_pi.pkl', 'rb'))"
   ]
  },
  {
   "cell_type": "code",
   "execution_count": 3,
   "id": "f70d9b6f",
   "metadata": {},
   "outputs": [],
   "source": [
    "def get_composition_metrics(gold_tuples, pred_tuples):\n",
    "    gold_comps, pred_comps = defaultdict(set), defaultdict(set)\n",
    "    for g in gold_tuples:\n",
    "        gold_comps[g[0]].add((g[1], g[2], g[3]))\n",
    "    for p in pred_tuples:\n",
    "        pred_comps[p[0]].add((p[1], p[2], p[3]))\n",
    "\n",
    "    prec = 0\n",
    "    for p, v in pred_comps.items():\n",
    "        if p in gold_comps and gold_comps[p] == v:\n",
    "            prec += 1\n",
    "    if len(pred_comps) > 0:\n",
    "        prec /= len(pred_comps)\n",
    "    else:\n",
    "        prec = 0.0\n",
    "    rec = 0\n",
    "    for g, v in gold_comps.items():\n",
    "        if g in pred_comps and pred_comps[g] == v:\n",
    "            rec += 1\n",
    "    rec /= len(gold_comps)\n",
    "    fscore = 2 * prec * rec / (prec + rec) if (prec + rec > 0) else 0.0\n",
    "    metrics = {'precision': prec, 'recall': rec, 'fscore': fscore}\n",
    "    metrics = {m: round(v * 100, 2) for m, v in metrics.items()}\n",
    "    return metrics"
   ]
  },
  {
   "cell_type": "code",
   "execution_count": 4,
   "id": "67189a8c",
   "metadata": {},
   "outputs": [
    {
     "data": {
      "text/plain": [
       "{'precision': 80.77, 'recall': 33.33, 'fscore': 47.19}"
      ]
     },
     "execution_count": 4,
     "metadata": {},
     "output_type": "execute_result"
    }
   ],
   "source": [
    "get_composition_metrics(gold_tuples, pred_tuples)"
   ]
  },
  {
   "cell_type": "code",
   "execution_count": null,
   "id": "aada35d4",
   "metadata": {},
   "outputs": [],
   "source": []
  }
 ],
 "metadata": {
  "kernelspec": {
   "display_name": "Python 3 (ipykernel)",
   "language": "python",
   "name": "python3"
  },
  "language_info": {
   "codemirror_mode": {
    "name": "ipython",
    "version": 3
   },
   "file_extension": ".py",
   "mimetype": "text/x-python",
   "name": "python",
   "nbconvert_exporter": "python",
   "pygments_lexer": "ipython3",
   "version": "3.7.9"
  }
 },
 "nbformat": 4,
 "nbformat_minor": 5
}
