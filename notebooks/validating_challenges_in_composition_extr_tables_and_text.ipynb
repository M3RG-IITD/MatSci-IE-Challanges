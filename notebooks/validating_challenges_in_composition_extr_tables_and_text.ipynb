{
 "cells": [
  {
   "cell_type": "code",
   "execution_count": 1,
   "id": "02415ae2",
   "metadata": {},
   "outputs": [],
   "source": [
    "import os\n",
    "import pickle"
   ]
  },
  {
   "cell_type": "code",
   "execution_count": 2,
   "id": "c5b3fbab",
   "metadata": {},
   "outputs": [],
   "source": [
    "output = pickle.load(open('res_discomat.pkl', 'rb'))\n",
    "comp_list = pickle.load(open('pi_tables_list.pkl', 'rb'))"
   ]
  },
  {
   "cell_type": "code",
   "execution_count": 3,
   "id": "70334e79",
   "metadata": {},
   "outputs": [
    {
     "data": {
      "text/plain": [
       "dict_keys(['identifier', 'pred_table_type_labels', 'pred_row_col_labels', 'pred_edges', 'pred_tuples', '1_2_violations', '1_3_violations', '2_3_violations', '3_3_violations'])"
      ]
     },
     "execution_count": 3,
     "metadata": {},
     "output_type": "execute_result"
    }
   ],
   "source": [
    "output.keys()"
   ]
  },
  {
   "cell_type": "code",
   "execution_count": 4,
   "id": "943f539c",
   "metadata": {},
   "outputs": [
    {
     "data": {
      "text/plain": [
       "[('S0022309300001411', 0),\n",
       " ('S0022309300001629', 0),\n",
       " ('S0022309300002854', 0),\n",
       " ('S0022309301007268', 2),\n",
       " ('S002230930100789X', 0)]"
      ]
     },
     "execution_count": 4,
     "metadata": {},
     "output_type": "execute_result"
    }
   ],
   "source": [
    "comp_list[0:5]"
   ]
  },
  {
   "cell_type": "code",
   "execution_count": 5,
   "id": "2e575e11",
   "metadata": {},
   "outputs": [
    {
     "name": "stdout",
     "output_type": "stream",
     "text": [
      "34\n",
      "('S002230931000030X', 0)\n",
      "[]\n",
      "------------------------\n",
      "35\n",
      "('S002230931000030X', 1)\n",
      "[]\n",
      "------------------------\n"
     ]
    },
    {
     "data": {
      "text/plain": [
       "'\\nNot extracted. Valid challenge.\\n'"
      ]
     },
     "execution_count": 5,
     "metadata": {},
     "output_type": "execute_result"
    }
   ],
   "source": [
    "'''\n",
    "3.1.3 \n",
    "a. Unusual variables used: \n",
    "'''\n",
    "#\n",
    " \n",
    "pii_tid_list = [34, 35]\n",
    "\n",
    "for ind_li in pii_tid_list:\n",
    "    pii_tidx = comp_list[ind_li]\n",
    "    if pii_tidx in output['identifier']:\n",
    "        print(ind_li)\n",
    "        ind = output['identifier'].index(pii_tidx)\n",
    "        print(pii_tidx)\n",
    "        print(output['pred_tuples'][ind])\n",
    "        print('------------------------')\n",
    "    else:\n",
    "        print(f'Not found pii = {pii_tidx}')\n",
    "        \n",
    "'''\n",
    "Not extracted. Valid challenge.\n",
    "'''"
   ]
  },
  {
   "cell_type": "code",
   "execution_count": 6,
   "id": "db943300",
   "metadata": {},
   "outputs": [
    {
     "name": "stdout",
     "output_type": "stream",
     "text": [
      "9\n",
      "('S0022309302014308', 1)\n",
      "[('S0022309302014308_1_1_0_0', 'As', 0.4, 'mol'), ('S0022309302014308_1_1_0_0', 'S', 0.6, 'mol'), ('S0022309302014308_1_2_0_0', 'As', 0.4, 'mol'), ('S0022309302014308_1_2_0_0', 'S', 0.4, 'mol'), ('S0022309302014308_1_2_0_0', 'Se', 0.2, 'mol'), ('S0022309302014308_1_3_0_0', 'As', 0.4, 'mol'), ('S0022309302014308_1_3_0_0', 'S', 0.3, 'mol'), ('S0022309302014308_1_3_0_0', 'Se', 0.3, 'mol'), ('S0022309302014308_1_4_0_0', 'As', 0.4, 'mol'), ('S0022309302014308_1_4_0_0', 'S', 0.2, 'mol'), ('S0022309302014308_1_4_0_0', 'Se', 0.4, 'mol'), ('S0022309302014308_1_5_0_0', 'As', 0.4, 'mol'), ('S0022309302014308_1_5_0_0', 'Se', 0.6, 'mol')]\n",
      "------------------------\n",
      "11\n",
      "('S0022309302019348', 1)\n",
      "[('S0022309302019348_1_2_0_0', 'Na2O', 0.05, 'mol'), ('S0022309302019348_1_2_0_0', 'GeO2', 0.95, 'mol'), ('S0022309302019348_1_3_0_0', 'Na2O', 0.1, 'mol'), ('S0022309302019348_1_3_0_0', 'GeO2', 0.9, 'mol'), ('S0022309302019348_1_4_0_0', 'Na2O', 0.15, 'mol'), ('S0022309302019348_1_4_0_0', 'GeO2', 0.85, 'mol')]\n",
      "------------------------\n",
      "18\n",
      "('S0022309304009044', 1)\n",
      "[('S0022309304009044_1_1_0_0', 'Li2O', 0.25, 'mol'), ('S0022309304009044_1_1_0_0', 'Na2O', 0.25, 'mol'), ('S0022309304009044_1_1_0_0', 'P2O5', 0.5, 'mol'), ('S0022309304009044_1_2_0_0', 'Li2O', 0.2, 'mol'), ('S0022309304009044_1_2_0_0', 'Na2O', 0.2, 'mol'), ('S0022309304009044_1_2_0_0', 'PbO', 0.1, 'mol'), ('S0022309304009044_1_2_0_0', 'P2O5', 0.5, 'mol'), ('S0022309304009044_1_3_0_0', 'Li2O', 0.15, 'mol'), ('S0022309304009044_1_3_0_0', 'Na2O', 0.15, 'mol'), ('S0022309304009044_1_3_0_0', 'PbO', 0.2, 'mol'), ('S0022309304009044_1_3_0_0', 'P2O5', 0.5, 'mol'), ('S0022309304009044_1_4_0_0', 'Li2O', 0.125, 'mol'), ('S0022309304009044_1_4_0_0', 'Na2O', 0.125, 'mol'), ('S0022309304009044_1_4_0_0', 'PbO', 0.25, 'mol'), ('S0022309304009044_1_4_0_0', 'P2O5', 0.5, 'mol'), ('S0022309304009044_1_5_0_0', 'Li2O', 0.1, 'mol'), ('S0022309304009044_1_5_0_0', 'Na2O', 0.1, 'mol'), ('S0022309304009044_1_5_0_0', 'PbO', 0.3, 'mol'), ('S0022309304009044_1_5_0_0', 'P2O5', 0.5, 'mol'), ('S0022309304009044_1_6_0_0', 'Li2O', 0.05, 'mol'), ('S0022309304009044_1_6_0_0', 'Na2O', 0.05, 'mol'), ('S0022309304009044_1_6_0_0', 'PbO', 0.4, 'mol'), ('S0022309304009044_1_6_0_0', 'P2O5', 0.5, 'mol'), ('S0022309304009044_1_7_0_0', 'PbO', 0.5, 'mol'), ('S0022309304009044_1_7_0_0', 'P2O5', 0.5, 'mol')]\n",
      "------------------------\n",
      "47\n",
      "('S016727381200313X', 0)\n",
      "[]\n",
      "------------------------\n"
     ]
    },
    {
     "data": {
      "text/plain": [
       "'\\nonly 47 failed. \\nThis is solved. should be moved to appendix.\\n'"
      ]
     },
     "execution_count": 6,
     "metadata": {},
     "output_type": "execute_result"
    }
   ],
   "source": [
    "'''\n",
    "3.1.3 \n",
    "b. Variables representing composition in text not found in tables:'''\n",
    "#Zaki\n",
    " \n",
    "pii_tid_list = [9, 11, 18, 47]\n",
    "\n",
    "for ind_li in pii_tid_list:\n",
    "    pii_tidx = comp_list[ind_li]\n",
    "    if pii_tidx in output['identifier']:\n",
    "        print(ind_li)\n",
    "        ind = output['identifier'].index(pii_tidx)\n",
    "        print(pii_tidx)\n",
    "        print(output['pred_tuples'][ind])\n",
    "        print('------------------------')\n",
    "    else:\n",
    "        print(f'Not found pii = {pii_tidx}')\n",
    "        \n",
    "'''\n",
    "only 47 failed. \n",
    "This is solved. should be moved to appendix.\n",
    "'''"
   ]
  },
  {
   "cell_type": "code",
   "execution_count": 9,
   "id": "9612f7cf",
   "metadata": {},
   "outputs": [
    {
     "name": "stdout",
     "output_type": "stream",
     "text": [
      "28\n",
      "('S0022309307012136', 0)\n",
      "[]\n",
      "------------------------\n",
      "44\n",
      "('S0022309396006655', 0)\n",
      "[('S0022309396006655_0_2_0_0', 'As', 0.384, 'mol'), ('S0022309396006655_0_2_0_0', 'Se', 0.616, 'mol')]\n",
      "------------------------\n"
     ]
    },
    {
     "data": {
      "text/plain": [
       "'\\nonly 47 failed. \\nThis is solved. should be moved to appendix.\\n'"
      ]
     },
     "execution_count": 9,
     "metadata": {},
     "output_type": "execute_result"
    }
   ],
   "source": [
    "'''\n",
    "3.1.3 \n",
    "c. Composition present across multiple columns:\n",
    "'''\n",
    " \n",
    "pii_tid_list = [28, 44]\n",
    "\n",
    "for ind_li in pii_tid_list:\n",
    "    pii_tidx = comp_list[ind_li]\n",
    "    if pii_tidx in output['identifier']:\n",
    "        print(ind_li)\n",
    "        ind = output['identifier'].index(pii_tidx)\n",
    "        print(pii_tidx)\n",
    "        print(output['pred_tuples'][ind])\n",
    "        print('------------------------')\n",
    "    else:\n",
    "        print(f'Not found pii = {pii_tidx}')\n",
    "        \n",
    "'''\n",
    "Couldnt extract in both tables. Valid challenge.\n",
    "'''"
   ]
  },
  {
   "cell_type": "code",
   "execution_count": 14,
   "id": "44f6cdc2",
   "metadata": {},
   "outputs": [
    {
     "name": "stdout",
     "output_type": "stream",
     "text": [
      "45\n",
      "('S002230939700094X', 2)\n",
      "[]\n",
      "------------------------\n"
     ]
    },
    {
     "data": {
      "text/plain": [
       "'\\nCouldnt extract in both tables. Valid challenge.\\n'"
      ]
     },
     "execution_count": 14,
     "metadata": {},
     "output_type": "execute_result"
    }
   ],
   "source": [
    "'''\n",
    "3.1.3 \n",
    "d. Composition partly in the table and partly in text: # find pii and cite\n",
    "'''\n",
    " \n",
    "#pii_tid_list = [28, 44]\n",
    "\n",
    "for pii_tidx in [('S002230939700094X', 2)]:\n",
    "    #pii_tidx = comp_list[ind_li]\n",
    "    if pii_tidx in output['identifier']:\n",
    "        print(ind_li)\n",
    "        ind = output['identifier'].index(pii_tidx)\n",
    "        print(pii_tidx)\n",
    "        print(output['pred_tuples'][ind])\n",
    "        print('------------------------')\n",
    "    else:\n",
    "        print(f'Not found pii = {pii_tidx}')\n",
    " \n",
    "\n",
    "'''\n",
    "Couldnt extract in both tables. Valid challenge.\n",
    "'''"
   ]
  },
  {
   "cell_type": "code",
   "execution_count": null,
   "id": "fd1c7ce3",
   "metadata": {},
   "outputs": [],
   "source": [
    "'''\n",
    "3.1.3 \n",
    "c. Composition present across multiple columns:\n",
    "'''\n",
    " \n",
    "pii_tid_list = [28, 44]\n",
    "\n",
    "for ind_li in pii_tid_list:\n",
    "    pii_tidx = comp_list[ind_li]\n",
    "    if pii_tidx in output['identifier']:\n",
    "        print(ind_li)\n",
    "        ind = output['identifier'].index(pii_tidx)\n",
    "        print(pii_tidx)\n",
    "        print(output['pred_tuples'][ind])\n",
    "        print('------------------------')\n",
    "    else:\n",
    "        print(f'Not found pii = {pii_tidx}')\n",
    "        \n",
    "'''\n",
    "Couldnt extract in both tables. Valid challenge.\n",
    "'''"
   ]
  },
  {
   "cell_type": "code",
   "execution_count": 12,
   "id": "e1cdbc28",
   "metadata": {},
   "outputs": [
    {
     "name": "stdout",
     "output_type": "stream",
     "text": [
      "1\n",
      "('S0022309300001629', 0)\n",
      "[('S0022309300001629_0_1_0_0', 'Na2O', 0.1, 'mol'), ('S0022309300001629_0_1_0_0', 'CaO', 0.1, 'mol'), ('S0022309300001629_0_1_0_0', 'SiO2', 0.8, 'mol'), ('S0022309300001629_0_2_0_0', 'Na2O', 0.1, 'mol'), ('S0022309300001629_0_2_0_0', 'CaO', 0.1, 'mol'), ('S0022309300001629_0_2_0_0', 'Al2O3', 0.05, 'mol'), ('S0022309300001629_0_2_0_0', 'SiO2', 0.75, 'mol'), ('S0022309300001629_0_3_0_0', 'Na2O', 0.1, 'mol'), ('S0022309300001629_0_3_0_0', 'CaO', 0.1, 'mol'), ('S0022309300001629_0_3_0_0', 'Al2O3', 0.1, 'mol'), ('S0022309300001629_0_3_0_0', 'SiO2', 0.7, 'mol'), ('S0022309300001629_0_4_0_0', 'Na2O', 0.1, 'mol'), ('S0022309300001629_0_4_0_0', 'CaO', 0.1, 'mol'), ('S0022309300001629_0_4_0_0', 'Al2O3', 0.15, 'mol'), ('S0022309300001629_0_4_0_0', 'SiO2', 0.65, 'mol'), ('S0022309300001629_0_5_0_0', 'Na2O', 0.1, 'mol'), ('S0022309300001629_0_5_0_0', 'CaO', 0.1, 'mol'), ('S0022309300001629_0_5_0_0', 'Al2O3', 0.2, 'mol'), ('S0022309300001629_0_5_0_0', 'SiO2', 0.6, 'mol'), ('S0022309300001629_0_6_0_0', 'Na2O', 0.1, 'mol'), ('S0022309300001629_0_6_0_0', 'CaO', 0.1, 'mol'), ('S0022309300001629_0_6_0_0', 'Al2O3', 0.25, 'mol'), ('S0022309300001629_0_6_0_0', 'SiO2', 0.55, 'mol'), ('S0022309300001629_0_7_0_0', 'Na2O', 0.16, 'mol'), ('S0022309300001629_0_7_0_0', 'CaO', 0.1, 'mol'), ('S0022309300001629_0_7_0_0', 'SiO2', 0.74, 'mol'), ('S0022309300001629_0_8_0_0', 'Na2O', 0.16, 'mol'), ('S0022309300001629_0_8_0_0', 'CaO', 0.1, 'mol'), ('S0022309300001629_0_8_0_0', 'Al2O3', 0.05, 'mol'), ('S0022309300001629_0_8_0_0', 'SiO2', 0.69, 'mol'), ('S0022309300001629_0_9_0_0', 'Na2O', 0.16, 'mol'), ('S0022309300001629_0_9_0_0', 'CaO', 0.1, 'mol'), ('S0022309300001629_0_9_0_0', 'Al2O3', 0.1, 'mol'), ('S0022309300001629_0_9_0_0', 'SiO2', 0.64, 'mol'), ('S0022309300001629_0_10_0_0', 'Na2O', 0.16, 'mol'), ('S0022309300001629_0_10_0_0', 'CaO', 0.1, 'mol'), ('S0022309300001629_0_10_0_0', 'Al2O3', 0.15, 'mol'), ('S0022309300001629_0_10_0_0', 'SiO2', 0.59, 'mol')]\n",
      "------------------------\n",
      "34\n",
      "('S002230931000030X', 0)\n",
      "[]\n",
      "------------------------\n",
      "35\n",
      "('S002230931000030X', 1)\n",
      "[]\n",
      "------------------------\n",
      "45\n",
      "('S0022309398004098', 0)\n",
      "[]\n",
      "------------------------\n"
     ]
    },
    {
     "data": {
      "text/plain": [
       "'\\nCouldnt extract in both tables. Valid challenge.\\n44 shouldnt be here.\\nModel fails for unusual varaibles.\\nFailed for 34 and 35.\\nShould be valid challenge.\\n'"
      ]
     },
     "execution_count": 12,
     "metadata": {},
     "output_type": "execute_result"
    }
   ],
   "source": [
    "'''\n",
    "3.1.3 \n",
    "c.  Presence of multiple variables:\n",
    "'''\n",
    " \n",
    "pii_tid_list = [1, 34, 35]\n",
    "\n",
    "for ind_li in pii_tid_list:\n",
    "    pii_tidx = comp_list[ind_li]\n",
    "    if pii_tidx in output['identifier']:\n",
    "        print(ind_li)\n",
    "        ind = output['identifier'].index(pii_tidx)\n",
    "        print(pii_tidx)\n",
    "        print(output['pred_tuples'][ind])\n",
    "        print('------------------------')\n",
    "    else:\n",
    "        print(f'Not found pii = {pii_tidx}')\n",
    "        \n",
    "'''\n",
    "Couldnt extract in 2 out of 3 tables. Valid challenge.\n",
    "Model fails for unusual varaibles.\n",
    "Failed for 34 and 35.\n",
    "Should be valid challenge.\n",
    "'''"
   ]
  },
  {
   "cell_type": "code",
   "execution_count": null,
   "id": "82e3108f",
   "metadata": {},
   "outputs": [],
   "source": []
  },
  {
   "cell_type": "code",
   "execution_count": 6,
   "id": "3a2fe268",
   "metadata": {},
   "outputs": [],
   "source": [
    "sx = '''\n",
    "https://www.sciencedirect.com/science/article/pii/S0022309300001411#TBL1\n",
    "https://www.sciencedirect.com/science/article/pii/S0022309300001629#TBL1\n",
    "https://www.sciencedirect.com/science/article/pii/S0022309300002854#TBL1\n",
    "https://www.sciencedirect.com/science/article/pii/S0022309301007268#TBL3\n",
    "https://www.sciencedirect.com/science/article/pii/S002230930100789X#TBL1\n",
    "https://www.sciencedirect.com/science/article/pii/S0022309301008833#TBL1\n",
    "https://www.sciencedirect.com/science/article/pii/S0022309301008845#TBL2\n",
    "https://www.sciencedirect.com/science/article/pii/S002230930100936X#TBL2\n",
    "https://www.sciencedirect.com/science/article/pii/S0022309301009395#TBL3\n",
    "https://www.sciencedirect.com/science/article/pii/S0022309302014308#TBL2\n",
    " https://www.sciencedirect.com/science/article/pii/S0022309302017702#TBL1\n",
    " https://www.sciencedirect.com/science/article/pii/S0022309302019348#TBL2\n",
    " https://www.sciencedirect.com/science/article/pii/S002230930300019X#TBL1\n",
    " https://www.sciencedirect.com/science/article/pii/S0022309303002369#TBL1\n",
    " https://www.sciencedirect.com/science/article/pii/S0022309303002369#TBL2\n",
    " https://www.sciencedirect.com/science/article/pii/S0022309303006537#TBL3\n",
    " https://www.sciencedirect.com/science/article/pii/S0022309303006550#TBL2\n",
    " https://www.sciencedirect.com/science/article/pii/S0022309303007567#TBL5\n",
    " https://www.sciencedirect.com/science/article/pii/S0022309304009044#TBL2\n",
    " https://www.sciencedirect.com/science/article/pii/S0022309305007696#TBL1\n",
    " https://www.sciencedirect.com/science/article/pii/S0022309306000706#TBL2\n",
    " https://www.sciencedirect.com/science/article/pii/S0022309306006892#TBL8\n",
    " https://www.sciencedirect.com/science/article/pii/S0022309306010015#TBL2\n",
    " https://www.sciencedirect.com/science/article/pii/S0022309307006928#TBL5\n",
    " https://www.sciencedirect.com/science/article/pii/S0022309307008204#TBL1\n",
    " https://www.sciencedirect.com/science/article/pii/S0022309307010356#TBL1\n",
    " https://www.sciencedirect.com/science/article/pii/S0022309307011441#TBL2\n",
    " https://www.sciencedirect.com/science/article/pii/S0022309307012021#TBL1\n",
    " https://www.sciencedirect.com/science/article/pii/S0022309307012136#TBL1\n",
    " https://www.sciencedirect.com/science/article/pii/S0022309308003347#TBL2\n",
    " https://www.sciencedirect.com/science/article/pii/S0022309308004730#TBL2\n",
    " https://www.sciencedirect.com/science/article/pii/S0022309308007849#TBL2\n",
    " https://www.sciencedirect.com/science/article/pii/S0022309309000167#TBL2\n",
    " https://www.sciencedirect.com/science/article/pii/S0022309309004281#TBL1\n",
    " https://www.sciencedirect.com/science/article/pii/S002230931000030X#TBL1\n",
    " https://www.sciencedirect.com/science/article/pii/S002230931000030X#TBL2\n",
    " https://www.sciencedirect.com/science/article/pii/S0022309314000957#TBL4\n",
    " https://www.sciencedirect.com/science/article/pii/S0022309314001033#TBL2\n",
    " https://www.sciencedirect.com/science/article/pii/S0022309314001094#TBL4\n",
    " https://www.sciencedirect.com/science/article/pii/S0022309314001094#TBL5\n",
    " https://www.sciencedirect.com/science/article/pii/S0022309314005638#TBL1\n",
    " https://www.sciencedirect.com/science/article/pii/S0022309314005638#TBL4\n",
    " https://www.sciencedirect.com/science/article/pii/S0022309314005638#TBL5\n",
    " https://www.sciencedirect.com/science/article/pii/S0022309315300387#TBL1\n",
    " https://www.sciencedirect.com/science/article/pii/S0022309396006655#TBL1\n",
    " https://www.sciencedirect.com/science/article/pii/S0022309398004098#TBL1\n",
    " https://www.sciencedirect.com/science/article/pii/S002230939900321X#TBL1\n",
    " https://www.sciencedirect.com/science/article/pii/S016727381200313X#TBL1\n",
    " https://www.sciencedirect.com/science/article/pii/S0167273813000490#TBL2\n",
    " https://www.sciencedirect.com/science/article/pii/S016727381300355X#TBL2\n",
    "'''"
   ]
  },
  {
   "cell_type": "code",
   "execution_count": 7,
   "id": "77c5de5b",
   "metadata": {},
   "outputs": [
    {
     "data": {
      "text/plain": [
       "['https://www.sciencedirect.com/science/article/pii/S0022309300001411#TBL1',\n",
       " 'https://www.sciencedirect.com/science/article/pii/S0022309300001629#TBL1',\n",
       " 'https://www.sciencedirect.com/science/article/pii/S0022309300002854#TBL1',\n",
       " 'https://www.sciencedirect.com/science/article/pii/S0022309301007268#TBL3',\n",
       " 'https://www.sciencedirect.com/science/article/pii/S002230930100789X#TBL1',\n",
       " 'https://www.sciencedirect.com/science/article/pii/S0022309301008833#TBL1',\n",
       " 'https://www.sciencedirect.com/science/article/pii/S0022309301008845#TBL2',\n",
       " 'https://www.sciencedirect.com/science/article/pii/S002230930100936X#TBL2',\n",
       " 'https://www.sciencedirect.com/science/article/pii/S0022309301009395#TBL3',\n",
       " 'https://www.sciencedirect.com/science/article/pii/S0022309302014308#TBL2',\n",
       " 'https://www.sciencedirect.com/science/article/pii/S0022309302017702#TBL1',\n",
       " 'https://www.sciencedirect.com/science/article/pii/S0022309302019348#TBL2',\n",
       " 'https://www.sciencedirect.com/science/article/pii/S002230930300019X#TBL1',\n",
       " 'https://www.sciencedirect.com/science/article/pii/S0022309303002369#TBL1',\n",
       " 'https://www.sciencedirect.com/science/article/pii/S0022309303002369#TBL2',\n",
       " 'https://www.sciencedirect.com/science/article/pii/S0022309303006537#TBL3',\n",
       " 'https://www.sciencedirect.com/science/article/pii/S0022309303006550#TBL2',\n",
       " 'https://www.sciencedirect.com/science/article/pii/S0022309303007567#TBL5',\n",
       " 'https://www.sciencedirect.com/science/article/pii/S0022309304009044#TBL2',\n",
       " 'https://www.sciencedirect.com/science/article/pii/S0022309305007696#TBL1',\n",
       " 'https://www.sciencedirect.com/science/article/pii/S0022309306000706#TBL2',\n",
       " 'https://www.sciencedirect.com/science/article/pii/S0022309306006892#TBL8',\n",
       " 'https://www.sciencedirect.com/science/article/pii/S0022309306010015#TBL2',\n",
       " 'https://www.sciencedirect.com/science/article/pii/S0022309307006928#TBL5',\n",
       " 'https://www.sciencedirect.com/science/article/pii/S0022309307008204#TBL1',\n",
       " 'https://www.sciencedirect.com/science/article/pii/S0022309307010356#TBL1',\n",
       " 'https://www.sciencedirect.com/science/article/pii/S0022309307011441#TBL2',\n",
       " 'https://www.sciencedirect.com/science/article/pii/S0022309307012021#TBL1',\n",
       " 'https://www.sciencedirect.com/science/article/pii/S0022309307012136#TBL1',\n",
       " 'https://www.sciencedirect.com/science/article/pii/S0022309308003347#TBL2',\n",
       " 'https://www.sciencedirect.com/science/article/pii/S0022309308004730#TBL2',\n",
       " 'https://www.sciencedirect.com/science/article/pii/S0022309308007849#TBL2',\n",
       " 'https://www.sciencedirect.com/science/article/pii/S0022309309000167#TBL2',\n",
       " 'https://www.sciencedirect.com/science/article/pii/S0022309309004281#TBL1',\n",
       " 'https://www.sciencedirect.com/science/article/pii/S002230931000030X#TBL1',\n",
       " 'https://www.sciencedirect.com/science/article/pii/S002230931000030X#TBL2',\n",
       " 'https://www.sciencedirect.com/science/article/pii/S0022309314000957#TBL4',\n",
       " 'https://www.sciencedirect.com/science/article/pii/S0022309314001033#TBL2',\n",
       " 'https://www.sciencedirect.com/science/article/pii/S0022309314001094#TBL4',\n",
       " 'https://www.sciencedirect.com/science/article/pii/S0022309314001094#TBL5',\n",
       " 'https://www.sciencedirect.com/science/article/pii/S0022309314005638#TBL1',\n",
       " 'https://www.sciencedirect.com/science/article/pii/S0022309314005638#TBL4',\n",
       " 'https://www.sciencedirect.com/science/article/pii/S0022309314005638#TBL5',\n",
       " 'https://www.sciencedirect.com/science/article/pii/S0022309315300387#TBL1',\n",
       " 'https://www.sciencedirect.com/science/article/pii/S0022309396006655#TBL1',\n",
       " 'https://www.sciencedirect.com/science/article/pii/S0022309398004098#TBL1',\n",
       " 'https://www.sciencedirect.com/science/article/pii/S002230939900321X#TBL1',\n",
       " 'https://www.sciencedirect.com/science/article/pii/S016727381200313X#TBL1',\n",
       " 'https://www.sciencedirect.com/science/article/pii/S0167273813000490#TBL2',\n",
       " 'https://www.sciencedirect.com/science/article/pii/S016727381300355X#TBL2']"
      ]
     },
     "execution_count": 7,
     "metadata": {},
     "output_type": "execute_result"
    }
   ],
   "source": [
    "sx.split()"
   ]
  },
  {
   "cell_type": "code",
   "execution_count": 8,
   "id": "8c5eb73b",
   "metadata": {},
   "outputs": [],
   "source": [
    "tup = []\n",
    "for link in sx.split():\n",
    "    link = link.split('/')[-1]\n",
    "    tup.append((link.split('#TBL')[0], int(link.split('#TBL')[1])-1))"
   ]
  },
  {
   "cell_type": "code",
   "execution_count": 9,
   "id": "6ae1900b",
   "metadata": {},
   "outputs": [
    {
     "data": {
      "text/plain": [
       "[('S0022309300001411', 0),\n",
       " ('S0022309300001629', 0),\n",
       " ('S0022309300002854', 0),\n",
       " ('S0022309301007268', 2),\n",
       " ('S002230930100789X', 0),\n",
       " ('S0022309301008833', 0),\n",
       " ('S0022309301008845', 1),\n",
       " ('S002230930100936X', 1),\n",
       " ('S0022309301009395', 2),\n",
       " ('S0022309302014308', 1),\n",
       " ('S0022309302017702', 0),\n",
       " ('S0022309302019348', 1),\n",
       " ('S002230930300019X', 0),\n",
       " ('S0022309303002369', 0),\n",
       " ('S0022309303002369', 1),\n",
       " ('S0022309303006537', 2),\n",
       " ('S0022309303006550', 1),\n",
       " ('S0022309303007567', 4),\n",
       " ('S0022309304009044', 1),\n",
       " ('S0022309305007696', 0),\n",
       " ('S0022309306000706', 1),\n",
       " ('S0022309306006892', 7),\n",
       " ('S0022309306010015', 1),\n",
       " ('S0022309307006928', 4),\n",
       " ('S0022309307008204', 0),\n",
       " ('S0022309307010356', 0),\n",
       " ('S0022309307011441', 1),\n",
       " ('S0022309307012021', 0),\n",
       " ('S0022309307012136', 0),\n",
       " ('S0022309308003347', 1),\n",
       " ('S0022309308004730', 1),\n",
       " ('S0022309308007849', 1),\n",
       " ('S0022309309000167', 1),\n",
       " ('S0022309309004281', 0),\n",
       " ('S002230931000030X', 0),\n",
       " ('S002230931000030X', 1),\n",
       " ('S0022309314000957', 3),\n",
       " ('S0022309314001033', 1),\n",
       " ('S0022309314001094', 3),\n",
       " ('S0022309314001094', 4),\n",
       " ('S0022309314005638', 0),\n",
       " ('S0022309314005638', 3),\n",
       " ('S0022309314005638', 4),\n",
       " ('S0022309315300387', 0),\n",
       " ('S0022309396006655', 0),\n",
       " ('S0022309398004098', 0),\n",
       " ('S002230939900321X', 0),\n",
       " ('S016727381200313X', 0),\n",
       " ('S0167273813000490', 1),\n",
       " ('S016727381300355X', 1)]"
      ]
     },
     "execution_count": 9,
     "metadata": {},
     "output_type": "execute_result"
    }
   ],
   "source": [
    "tup"
   ]
  },
  {
   "cell_type": "code",
   "execution_count": 10,
   "id": "e896b811",
   "metadata": {},
   "outputs": [],
   "source": [
    "pickle.dump(tup, open('pi_tables_list.pkl', 'wb'))"
   ]
  },
  {
   "cell_type": "code",
   "execution_count": null,
   "id": "13eaa4bc",
   "metadata": {},
   "outputs": [],
   "source": []
  }
 ],
 "metadata": {
  "kernelspec": {
   "display_name": "Python 3 (ipykernel)",
   "language": "python",
   "name": "python3"
  },
  "language_info": {
   "codemirror_mode": {
    "name": "ipython",
    "version": 3
   },
   "file_extension": ".py",
   "mimetype": "text/x-python",
   "name": "python",
   "nbconvert_exporter": "python",
   "pygments_lexer": "ipython3",
   "version": "3.7.9"
  }
 },
 "nbformat": 4,
 "nbformat_minor": 5
}
